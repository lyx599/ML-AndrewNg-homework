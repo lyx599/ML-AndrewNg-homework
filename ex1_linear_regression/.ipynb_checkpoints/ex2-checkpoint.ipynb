{
 "cells": [
  {
   "cell_type": "code",
   "execution_count": 1,
   "metadata": {},
   "outputs": [],
   "source": [
    "import numpy as np\n",
    "import pandas as pd\n",
    "import matplotlib.pyplot as plt"
   ]
  },
  {
   "cell_type": "code",
   "execution_count": 2,
   "metadata": {},
   "outputs": [
    {
     "name": "stdout",
     "output_type": "stream",
     "text": [
      "    size  number   price\n",
      "0   2104       3  399900\n",
      "1   1600       3  329900\n",
      "2   2400       3  369000\n",
      "3   1416       2  232000\n",
      "4   3000       4  539900\n",
      "5   1985       4  299900\n",
      "6   1534       3  314900\n",
      "7   1427       3  198999\n",
      "8   1380       3  212000\n",
      "9   1494       3  242500\n",
      "10  1940       4  239999\n",
      "11  2000       3  347000\n",
      "12  1890       3  329999\n",
      "13  4478       5  699900\n",
      "14  1268       3  259900\n",
      "15  2300       4  449900\n",
      "16  1320       2  299900\n",
      "17  1236       3  199900\n",
      "18  2609       4  499998\n",
      "19  3031       4  599000\n",
      "20  1767       3  252900\n",
      "21  1888       2  255000\n",
      "22  1604       3  242900\n",
      "23  1962       4  259900\n",
      "24  3890       3  573900\n",
      "25  1100       3  249900\n",
      "26  1458       3  464500\n",
      "27  2526       3  469000\n",
      "28  2200       3  475000\n",
      "29  2637       3  299900\n",
      "30  1839       2  349900\n",
      "31  1000       1  169900\n",
      "32  2040       4  314900\n",
      "33  3137       3  579900\n",
      "34  1811       4  285900\n",
      "35  1437       3  249900\n",
      "36  1239       3  229900\n",
      "37  2132       4  345000\n",
      "38  4215       4  549000\n",
      "39  2162       4  287000\n",
      "40  1664       2  368500\n",
      "41  2238       3  329900\n",
      "42  2567       4  314000\n",
      "43  1200       3  299000\n",
      "44   852       2  179900\n",
      "45  1852       4  299900\n",
      "46  1203       3  239500\n"
     ]
    }
   ],
   "source": [
    "data = pd.read_csv(\"ex1data2.txt\",names=[\"size\",\"number\",\"price\"],header=None)\n",
    "print(data)"
   ]
  },
  {
   "cell_type": "code",
   "execution_count": 3,
   "metadata": {},
   "outputs": [
    {
     "name": "stdout",
     "output_type": "stream",
     "text": [
      "(47, 2) (47, 1)\n",
      "<built-in method item of numpy.ndarray object at 0x00000256EB05F990>\n",
      "[[2104    3]\n",
      " [1600    3]\n",
      " [2400    3]\n",
      " [1416    2]\n",
      " [3000    4]\n",
      " [1985    4]\n",
      " [1534    3]\n",
      " [1427    3]\n",
      " [1380    3]\n",
      " [1494    3]\n",
      " [1940    4]\n",
      " [2000    3]\n",
      " [1890    3]\n",
      " [4478    5]\n",
      " [1268    3]\n",
      " [2300    4]\n",
      " [1320    2]\n",
      " [1236    3]\n",
      " [2609    4]\n",
      " [3031    4]\n",
      " [1767    3]\n",
      " [1888    2]\n",
      " [1604    3]\n",
      " [1962    4]\n",
      " [3890    3]\n",
      " [1100    3]\n",
      " [1458    3]\n",
      " [2526    3]\n",
      " [2200    3]\n",
      " [2637    3]\n",
      " [1839    2]\n",
      " [1000    1]\n",
      " [2040    4]\n",
      " [3137    3]\n",
      " [1811    4]\n",
      " [1437    3]\n",
      " [1239    3]\n",
      " [2132    4]\n",
      " [4215    4]\n",
      " [2162    4]\n",
      " [1664    2]\n",
      " [2238    3]\n",
      " [2567    4]\n",
      " [1200    3]\n",
      " [ 852    2]\n",
      " [1852    4]\n",
      " [1203    3]]\n",
      "[[399900]\n",
      " [329900]\n",
      " [369000]\n",
      " [232000]\n",
      " [539900]\n",
      " [299900]\n",
      " [314900]\n",
      " [198999]\n",
      " [212000]\n",
      " [242500]\n",
      " [239999]\n",
      " [347000]\n",
      " [329999]\n",
      " [699900]\n",
      " [259900]\n",
      " [449900]\n",
      " [299900]\n",
      " [199900]\n",
      " [499998]\n",
      " [599000]\n",
      " [252900]\n",
      " [255000]\n",
      " [242900]\n",
      " [259900]\n",
      " [573900]\n",
      " [249900]\n",
      " [464500]\n",
      " [469000]\n",
      " [475000]\n",
      " [299900]\n",
      " [349900]\n",
      " [169900]\n",
      " [314900]\n",
      " [579900]\n",
      " [285900]\n",
      " [249900]\n",
      " [229900]\n",
      " [345000]\n",
      " [549000]\n",
      " [287000]\n",
      " [368500]\n",
      " [329900]\n",
      " [314000]\n",
      " [299000]\n",
      " [179900]\n",
      " [299900]\n",
      " [239500]]\n"
     ]
    }
   ],
   "source": [
    "# x = data.as_matrix([\"size\",\"number\"])\n",
    "# y = data.as_matrix([\"price\"])\n",
    "x = data.values[:,0:2]\n",
    "y = data.values[:,2:3]\n",
    "m = x.shape[0]\n",
    "n = x.shape[1]\n",
    "cost = []\n",
    "print(x.shape,y.shape)\n",
    "print(x.item)\n",
    "print(x)\n",
    "print(y)"
   ]
  },
  {
   "cell_type": "code",
   "execution_count": 4,
   "metadata": {},
   "outputs": [
    {
     "name": "stdout",
     "output_type": "stream",
     "text": [
      "[3626    4]\n",
      "[[ 1.31415422e-01 -2.26093368e-01]\n",
      " [-5.09640698e-01 -2.26093368e-01]\n",
      " [ 5.07908699e-01 -2.26093368e-01]\n",
      " [-7.43677059e-01 -1.55439190e+00]\n",
      " [ 1.27107075e+00  1.10220517e+00]\n",
      " [-1.99450507e-02  1.10220517e+00]\n",
      " [-5.93588523e-01 -2.26093368e-01]\n",
      " [-7.29685755e-01 -2.26093368e-01]\n",
      " [-7.89466782e-01 -2.26093368e-01]\n",
      " [-6.44465993e-01 -2.26093368e-01]\n",
      " [-7.71822042e-02  1.10220517e+00]\n",
      " [-8.65999486e-04 -2.26093368e-01]\n",
      " [-1.40779041e-01 -2.26093368e-01]\n",
      " [ 3.15099326e+00  2.43050370e+00]\n",
      " [-9.31923697e-01 -2.26093368e-01]\n",
      " [ 3.80715024e-01  1.10220517e+00]\n",
      " [-8.65782986e-01 -1.55439190e+00]\n",
      " [-9.72625673e-01 -2.26093368e-01]\n",
      " [ 7.73743478e-01  1.10220517e+00]\n",
      " [ 1.31050078e+00  1.10220517e+00]\n",
      " [-2.97227261e-01 -2.26093368e-01]\n",
      " [-1.43322915e-01 -1.55439190e+00]\n",
      " [-5.04552951e-01 -2.26093368e-01]\n",
      " [-4.91995958e-02  1.10220517e+00]\n",
      " [ 2.40309445e+00 -2.26093368e-01]\n",
      " [-1.14560907e+00 -2.26093368e-01]\n",
      " [-6.90255715e-01 -2.26093368e-01]\n",
      " [ 6.68172729e-01 -2.26093368e-01]\n",
      " [ 2.53521350e-01 -2.26093368e-01]\n",
      " [ 8.09357707e-01 -2.26093368e-01]\n",
      " [-2.05647815e-01 -1.55439190e+00]\n",
      " [-1.27280274e+00 -2.88269044e+00]\n",
      " [ 5.00114703e-02  1.10220517e+00]\n",
      " [ 1.44532608e+00 -2.26093368e-01]\n",
      " [-2.41262044e-01  1.10220517e+00]\n",
      " [-7.16966387e-01 -2.26093368e-01]\n",
      " [-9.68809863e-01 -2.26093368e-01]\n",
      " [ 1.67029651e-01  1.10220517e+00]\n",
      " [ 2.81647389e+00  1.10220517e+00]\n",
      " [ 2.05187753e-01  1.10220517e+00]\n",
      " [-4.28236746e-01 -1.55439190e+00]\n",
      " [ 3.01854946e-01 -2.26093368e-01]\n",
      " [ 7.20322135e-01  1.10220517e+00]\n",
      " [-1.01841540e+00 -2.26093368e-01]\n",
      " [-1.46104938e+00 -1.55439190e+00]\n",
      " [-1.89112638e-01  1.10220517e+00]\n",
      " [-1.01459959e+00 -2.26093368e-01]]\n",
      "[[ 0.48089023]\n",
      " [-0.08498338]\n",
      " [ 0.23109745]\n",
      " [-0.87639804]\n",
      " [ 1.61263744]\n",
      " [-0.32750064]\n",
      " [-0.20624201]\n",
      " [-1.1431751 ]\n",
      " [-1.03807621]\n",
      " [-0.791517  ]\n",
      " [-0.81173485]\n",
      " [ 0.05325146]\n",
      " [-0.08418307]\n",
      " [ 2.90606282]\n",
      " [-0.65085698]\n",
      " [ 0.88508566]\n",
      " [-0.32750064]\n",
      " [-1.1358915 ]\n",
      " [ 1.29007331]\n",
      " [ 2.09039644]\n",
      " [-0.70744435]\n",
      " [-0.69046814]\n",
      " [-0.78828343]\n",
      " [-0.65085698]\n",
      " [ 1.88749033]\n",
      " [-0.73169607]\n",
      " [ 1.00311072]\n",
      " [ 1.03948831]\n",
      " [ 1.08799176]\n",
      " [-0.32750064]\n",
      " [ 0.07669479]\n",
      " [-1.37840876]\n",
      " [-0.20624201]\n",
      " [ 1.93599378]\n",
      " [-0.44067536]\n",
      " [-0.73169607]\n",
      " [-0.89337424]\n",
      " [ 0.03708364]\n",
      " [ 1.686201  ]\n",
      " [-0.43178306]\n",
      " [ 0.22705549]\n",
      " [-0.08498338]\n",
      " [-0.21351753]\n",
      " [-0.33477616]\n",
      " [-1.29756968]\n",
      " [-0.32750064]\n",
      " [-0.81576872]]\n"
     ]
    }
   ],
   "source": [
    "#归一化\n",
    "x_mean = x.mean(axis=0)\n",
    "x_delta = x.max(axis=0) - x.min(axis=0)\n",
    "# print(x - mean)\n",
    "y_mean = y.mean(axis=0)\n",
    "# y_delta = y.max(axis=0) - x.min(axis=0)\n",
    "print(x_delta)\n",
    "x = (x - x_mean) / x.std(axis=0)\n",
    "y = (y - y_mean) / y.std(axis=0)\n",
    "print(x)\n",
    "print(y)\n",
    "x = np.column_stack((np.ones(m),x))"
   ]
  },
  {
   "cell_type": "code",
   "execution_count": 5,
   "metadata": {},
   "outputs": [],
   "source": [
    "def h_function(theta):\n",
    "    return np.dot(x,theta)"
   ]
  },
  {
   "cell_type": "code",
   "execution_count": 6,
   "metadata": {},
   "outputs": [],
   "source": [
    "def cost_function(theta):\n",
    "    delta = y - h_function(theta)\n",
    "    jval = np.sum(delta**2) / (2 * m)\n",
    "    cost.append(jval)\n",
    "    return jval"
   ]
  },
  {
   "cell_type": "code",
   "execution_count": 7,
   "metadata": {},
   "outputs": [],
   "source": [
    "def gradient(theta,learn_rate):\n",
    "    cost_function(theta)\n",
    "    delta = h_function(theta) - y\n",
    "    t_thete = learn_rate * np.dot(np.transpose(x),delta) / m\n",
    "    theta = theta - t_thete\n",
    "    return theta"
   ]
  },
  {
   "cell_type": "code",
   "execution_count": 8,
   "metadata": {},
   "outputs": [],
   "source": [
    "def run(step):\n",
    "    ini_theta = np.zeros((n+1,1))\n",
    "    learn_rate = 0.1\n",
    "    for i in range(step):\n",
    "        ini_theta = gradient(ini_theta,learn_rate)\n",
    "    return ini_theta"
   ]
  },
  {
   "cell_type": "code",
   "execution_count": 9,
   "metadata": {},
   "outputs": [
    {
     "name": "stdout",
     "output_type": "stream",
     "text": [
      "[[-6.28338988e-17]\n",
      " [ 8.84765988e-01]\n",
      " [-5.31788197e-02]]\n"
     ]
    }
   ],
   "source": [
    "step = 1000\n",
    "new_theta = run(step)\n",
    "print(new_theta)\n"
   ]
  },
  {
   "cell_type": "code",
   "execution_count": 10,
   "metadata": {},
   "outputs": [
    {
     "data": {
      "image/png": "[encoded data removed]",
      "text/plain": [
       "<Figure size 432x288 with 1 Axes>"
      ]
     },
     "metadata": {
      "needs_background": "light"
     },
     "output_type": "display_data"
    }
   ],
   "source": [
    "p_x = np.arange(step)\n",
    "fig, ax = plt.subplots()\n",
    "ax.errorbar(p_x, cost)\n",
    "plt.show()"
   ]
  },
  {
   "attachments": {},
   "cell_type": "markdown",
   "metadata": {},
   "source": [
    "正规方程 "
   ]
  },
  {
   "cell_type": "code",
   "execution_count": 11,
   "metadata": {},
   "outputs": [
    {
     "name": "stdout",
     "output_type": "stream",
     "text": [
      "[[-6.93889390e-17]\n",
      " [ 8.84765988e-01]\n",
      " [-5.31788197e-02]]\n"
     ]
    }
   ],
   "source": [
    "nq_theta = np.dot(np.dot(np.linalg.inv(np.dot(x.T,x)),x.T),y)\n",
    "print(nq_theta)"
   ]
  },
  {
   "cell_type": "code",
   "execution_count": null,
   "metadata": {},
   "outputs": [],
   "source": []
  }
 ],
 "metadata": {
  "kernelspec": {
   "display_name": "Python 3",
   "language": "python",
   "name": "python3"
  },
  "language_info": {
   "codemirror_mode": {
    "name": "ipython",
    "version": 3
   },
   "file_extension": ".py",
   "mimetype": "text/x-python",
   "name": "python",
   "nbconvert_exporter": "python",
   "pygments_lexer": "ipython3",
   "version": "3.7.0"
  }
 },
 "nbformat": 4,
 "nbformat_minor": 2
}
