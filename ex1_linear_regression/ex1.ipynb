{
 "cells": [
  {
   "cell_type": "code",
   "execution_count": 1,
   "metadata": {},
   "outputs": [],
   "source": [
    "import os as os\n",
    "import pandas as pd\n",
    "import numpy as np\n",
    "import matplotlib.pyplot as plt"
   ]
  },
  {
   "cell_type": "code",
   "execution_count": 2,
   "metadata": {},
   "outputs": [
    {
     "data": {
      "text/plain": [
       "'D:\\\\coding\\\\My_git_rep\\\\ML-AndrewNg-homework\\\\ex1_linear_regression'"
      ]
     },
     "execution_count": 2,
     "metadata": {},
     "output_type": "execute_result"
    }
   ],
   "source": [
    "os.getcwd()"
   ]
  },
  {
   "cell_type": "code",
   "execution_count": 3,
   "metadata": {},
   "outputs": [
    {
     "name": "stdout",
     "output_type": "stream",
     "text": [
      "          x         y\n",
      "0    6.1101  17.59200\n",
      "1    5.5277   9.13020\n",
      "2    8.5186  13.66200\n",
      "3    7.0032  11.85400\n",
      "4    5.8598   6.82330\n",
      "5    8.3829  11.88600\n",
      "6    7.4764   4.34830\n",
      "7    8.5781  12.00000\n",
      "8    6.4862   6.59870\n",
      "9    5.0546   3.81660\n",
      "10   5.7107   3.25220\n",
      "11  14.1640  15.50500\n",
      "12   5.7340   3.15510\n",
      "13   8.4084   7.22580\n",
      "14   5.6407   0.71618\n",
      "15   5.3794   3.51290\n",
      "16   6.3654   5.30480\n",
      "17   5.1301   0.56077\n",
      "18   6.4296   3.65180\n",
      "19   7.0708   5.38930\n",
      "20   6.1891   3.13860\n",
      "21  20.2700  21.76700\n",
      "22   5.4901   4.26300\n",
      "23   6.3261   5.18750\n",
      "24   5.5649   3.08250\n",
      "25  18.9450  22.63800\n",
      "26  12.8280  13.50100\n",
      "27  10.9570   7.04670\n",
      "28  13.1760  14.69200\n",
      "29  22.2030  24.14700\n",
      "..      ...       ...\n",
      "67  10.2360   7.77540\n",
      "68   5.4994   1.01730\n",
      "69  20.3410  20.99200\n",
      "70  10.1360   6.67990\n",
      "71   7.3345   4.02590\n",
      "72   6.0062   1.27840\n",
      "73   7.2259   3.34110\n",
      "74   5.0269  -2.68070\n",
      "75   6.5479   0.29678\n",
      "76   7.5386   3.88450\n",
      "77   5.0365   5.70140\n",
      "78  10.2740   6.75260\n",
      "79   5.1077   2.05760\n",
      "80   5.7292   0.47953\n",
      "81   5.1884   0.20421\n",
      "82   6.3557   0.67861\n",
      "83   9.7687   7.54350\n",
      "84   6.5159   5.34360\n",
      "85   8.5172   4.24150\n",
      "86   9.1802   6.79810\n",
      "87   6.0020   0.92695\n",
      "88   5.5204   0.15200\n",
      "89   5.0594   2.82140\n",
      "90   5.7077   1.84510\n",
      "91   7.6366   4.29590\n",
      "92   5.8707   7.20290\n",
      "93   5.3054   1.98690\n",
      "94   8.2934   0.14454\n",
      "95  13.3940   9.05510\n",
      "96   5.4369   0.61705\n",
      "\n",
      "[97 rows x 2 columns]\n"
     ]
    }
   ],
   "source": [
    "data = pd.read_csv(\"ex1data1.txt\",names=[\"x\",\"y\"],header=None)\n",
    "print(data)"
   ]
  },
  {
   "cell_type": "code",
   "execution_count": 4,
   "metadata": {
    "scrolled": true
   },
   "outputs": [
    {
     "data": {
      "text/plain": [
       "<matplotlib.axes._subplots.AxesSubplot at 0x1ff45007f98>"
      ]
     },
     "execution_count": 4,
     "metadata": {},
     "output_type": "execute_result"
    },
    {
     "data": {
      "image/png": "[encoded data removed]",
      "text/plain": [
       "<Figure size 432x288 with 1 Axes>"
      ]
     },
     "metadata": {
      "needs_background": "light"
     },
     "output_type": "display_data"
    }
   ],
   "source": [
    "data.plot.scatter(x=\"x\",y=\"y\")"
   ]
  },
  {
   "cell_type": "code",
   "execution_count": 5,
   "metadata": {},
   "outputs": [
    {
     "name": "stdout",
     "output_type": "stream",
     "text": [
      "(97, 2)\n",
      "(97, 1)\n",
      "97\n"
     ]
    },
    {
     "name": "stderr",
     "output_type": "stream",
     "text": [
      "D:\\coding\\Anaconda\\lib\\site-packages\\ipykernel_launcher.py:2: FutureWarning: Method .as_matrix will be removed in a future version. Use .values instead.\n",
      "  \n",
      "D:\\coding\\Anaconda\\lib\\site-packages\\ipykernel_launcher.py:3: FutureWarning: Method .as_matrix will be removed in a future version. Use .values instead.\n",
      "  This is separate from the ipykernel package so we can avoid doing imports until\n"
     ]
    }
   ],
   "source": [
    "#转为ndarray数据结构\n",
    "x = data.as_matrix([\"x\"])\n",
    "y = data.as_matrix([\"y\"])\n",
    "m = x.shape[0]\n",
    "n = x.shape[1]\n",
    "x = np.column_stack((np.ones(m),x))\n",
    "cost = []\n",
    "print(x.shape)\n",
    "print(y.shape)\n",
    "print(m)"
   ]
  },
  {
   "cell_type": "markdown",
   "metadata": {},
   "source": [
    "t_x(m,2) * theta(2,1) ->(m,1)"
   ]
  },
  {
   "cell_type": "code",
   "execution_count": 6,
   "metadata": {},
   "outputs": [],
   "source": [
    "def h_function(theta):\n",
    "    return np.dot(x,theta)"
   ]
  },
  {
   "cell_type": "code",
   "execution_count": 7,
   "metadata": {},
   "outputs": [],
   "source": [
    "def cost_function(theta):\n",
    "    delta = h_function(theta) - y\n",
    "    jval = np.sum(delta**2) / (2 * m)\n",
    "    cost.append(jval)\n",
    "    return jval"
   ]
  },
  {
   "cell_type": "code",
   "execution_count": 8,
   "metadata": {},
   "outputs": [],
   "source": [
    "def gradient(theta,learn_rate):\n",
    "    cost_function(theta)\n",
    "    delta =  h_function(theta) - y\n",
    "    t_theta = learn_rate * (np.dot(np.transpose(delta),x)) / m \n",
    "    theta = theta - np.transpose(t_theta)\n",
    "#     print(theta)\n",
    "    return theta"
   ]
  },
  {
   "cell_type": "code",
   "execution_count": 9,
   "metadata": {},
   "outputs": [],
   "source": [
    "def run(step):\n",
    "    ini_theta = np.zeros((n+1,1))\n",
    "    #print(ini_theta)\n",
    "    learn_rate = 0.01\n",
    "    for i in range(step):\n",
    "        ini_theta = gradient(ini_theta,learn_rate)\n",
    "    return ini_theta"
   ]
  },
  {
   "cell_type": "code",
   "execution_count": 10,
   "metadata": {},
   "outputs": [
    {
     "name": "stdout",
     "output_type": "stream",
     "text": [
      "[[-3.24140214]\n",
      " [ 1.1272942 ]]\n",
      "577.8380296038102\n"
     ]
    }
   ],
   "source": [
    "step = 1000\n",
    "new_theta = run(step)\n",
    "print(new_theta)\n",
    "print(np.sum(h_function(new_theta)))"
   ]
  },
  {
   "cell_type": "code",
   "execution_count": 11,
   "metadata": {},
   "outputs": [
    {
     "data": {
      "image/png": "[encoded data removed]",
      "text/plain": [
       "<Figure size 432x288 with 1 Axes>"
      ]
     },
     "metadata": {
      "needs_background": "light"
     },
     "output_type": "display_data"
    }
   ],
   "source": [
    "p_x = np.arange(step)\n",
    "fig, ax = plt.subplots()\n",
    "ax.errorbar(p_x, cost)\n",
    "plt.show()"
   ]
  },
  {
   "cell_type": "code",
   "execution_count": 12,
   "metadata": {},
   "outputs": [
    {
     "data": {
      "text/plain": [
       "[<matplotlib.lines.Line2D at 0x1ff453c4780>]"
      ]
     },
     "execution_count": 12,
     "metadata": {},
     "output_type": "execute_result"
    },
    {
     "data": {
      "image/png": "[encoded data removed]",
      "text/plain": [
       "<Figure size 432x288 with 1 Axes>"
      ]
     },
     "metadata": {
      "needs_background": "light"
     },
     "output_type": "display_data"
    }
   ],
   "source": [
    "fig, ax = plt.subplots()\n",
    "y1 = h_function(new_theta)\n",
    "ax.scatter(x[:,1:2],y)\n",
    "ax.plot(x[:,1:2],y1,color='r', linewidth=1, alpha=0.6)\n",
    "# plt.show()\n",
    "# print(x[:,1:2])"
   ]
  },
  {
   "cell_type": "code",
   "execution_count": null,
   "metadata": {},
   "outputs": [],
   "source": []
  }
 ],
 "metadata": {
  "kernelspec": {
   "display_name": "Python 3",
   "language": "python",
   "name": "python3"
  },
  "language_info": {
   "codemirror_mode": {
    "name": "ipython",
    "version": 3
   },
   "file_extension": ".py",
   "mimetype": "text/x-python",
   "name": "python",
   "nbconvert_exporter": "python",
   "pygments_lexer": "ipython3",
   "version": "3.7.0"
  }
 },
 "nbformat": 4,
 "nbformat_minor": 2
}
