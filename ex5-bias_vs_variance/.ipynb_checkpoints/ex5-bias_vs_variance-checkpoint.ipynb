{
 "cells": [
  {
   "cell_type": "markdown",
   "metadata": {},
   "source": [
    "# 机器学习练习 5 - 偏差和方差"
   ]
  },
  {
   "cell_type": "code",
   "execution_count": 1,
   "metadata": {},
   "outputs": [],
   "source": [
    "import numpy as np\n",
    "import scipy.io as sio\n",
    "import scipy.optimize as opt\n",
    "import pandas as pd\n",
    "import matplotlib.pyplot as plt\n",
    "import seaborn as sns"
   ]
  },
  {
   "cell_type": "code",
   "execution_count": 2,
   "metadata": {},
   "outputs": [
    {
     "data": {
      "text/plain": [
       "{'__header__': b'MATLAB 5.0 MAT-file, Platform: GLNXA64, Created on: Fri Nov  4 22:27:26 2011',\n",
       " '__version__': '1.0',\n",
       " '__globals__': [],\n",
       " 'X': array([[-15.93675813],\n",
       "        [-29.15297922],\n",
       "        [ 36.18954863],\n",
       "        [ 37.49218733],\n",
       "        [-48.05882945],\n",
       "        [ -8.94145794],\n",
       "        [ 15.30779289],\n",
       "        [-34.70626581],\n",
       "        [  1.38915437],\n",
       "        [-44.38375985],\n",
       "        [  7.01350208],\n",
       "        [ 22.76274892]]),\n",
       " 'y': array([[ 2.13431051],\n",
       "        [ 1.17325668],\n",
       "        [34.35910918],\n",
       "        [36.83795516],\n",
       "        [ 2.80896507],\n",
       "        [ 2.12107248],\n",
       "        [14.71026831],\n",
       "        [ 2.61418439],\n",
       "        [ 3.74017167],\n",
       "        [ 3.73169131],\n",
       "        [ 7.62765885],\n",
       "        [22.7524283 ]]),\n",
       " 'Xtest': array([[-33.31800399],\n",
       "        [-37.91216403],\n",
       "        [-51.20693795],\n",
       "        [ -6.13259585],\n",
       "        [ 21.26118327],\n",
       "        [-40.31952949],\n",
       "        [-14.54153167],\n",
       "        [ 32.55976024],\n",
       "        [ 13.39343255],\n",
       "        [ 44.20988595],\n",
       "        [ -1.14267768],\n",
       "        [-12.76686065],\n",
       "        [ 34.05450539],\n",
       "        [ 39.22350028],\n",
       "        [  1.97449674],\n",
       "        [ 29.6217551 ],\n",
       "        [-23.66962971],\n",
       "        [ -9.01180139],\n",
       "        [-55.94057091],\n",
       "        [-35.70859752],\n",
       "        [  9.51020533]]),\n",
       " 'ytest': array([[ 3.31688953],\n",
       "        [ 5.39768952],\n",
       "        [ 0.13042984],\n",
       "        [ 6.1925982 ],\n",
       "        [17.08848712],\n",
       "        [ 0.79950805],\n",
       "        [ 2.82479183],\n",
       "        [28.62123334],\n",
       "        [17.04639081],\n",
       "        [55.38437334],\n",
       "        [ 4.07936733],\n",
       "        [ 8.27039793],\n",
       "        [31.32355102],\n",
       "        [39.15906103],\n",
       "        [ 8.08727989],\n",
       "        [24.11134389],\n",
       "        [ 2.4773548 ],\n",
       "        [ 6.56606472],\n",
       "        [ 6.0380888 ],\n",
       "        [ 4.69273956],\n",
       "        [10.83004606]]),\n",
       " 'Xval': array([[-16.74653578],\n",
       "        [-14.57747075],\n",
       "        [ 34.51575866],\n",
       "        [-47.01007574],\n",
       "        [ 36.97511905],\n",
       "        [-40.68611002],\n",
       "        [ -4.47201098],\n",
       "        [ 26.53363489],\n",
       "        [-42.7976831 ],\n",
       "        [ 25.37409938],\n",
       "        [-31.10955398],\n",
       "        [ 27.31176864],\n",
       "        [ -3.26386201],\n",
       "        [ -1.81827649],\n",
       "        [-40.7196624 ],\n",
       "        [-50.01324365],\n",
       "        [-17.41177155],\n",
       "        [  3.5881937 ],\n",
       "        [  7.08548026],\n",
       "        [ 46.28236902],\n",
       "        [ 14.61228909]]),\n",
       " 'yval': array([[ 4.17020201e+00],\n",
       "        [ 4.06726280e+00],\n",
       "        [ 3.18730676e+01],\n",
       "        [ 1.06236562e+01],\n",
       "        [ 3.18360213e+01],\n",
       "        [ 4.95936972e+00],\n",
       "        [ 4.45159880e+00],\n",
       "        [ 2.22763185e+01],\n",
       "        [-4.38738274e-05],\n",
       "        [ 2.05038016e+01],\n",
       "        [ 3.85834476e+00],\n",
       "        [ 1.93650529e+01],\n",
       "        [ 4.88376281e+00],\n",
       "        [ 1.10971588e+01],\n",
       "        [ 7.46170827e+00],\n",
       "        [ 1.47693464e+00],\n",
       "        [ 2.71916388e+00],\n",
       "        [ 1.09269007e+01],\n",
       "        [ 8.34871235e+00],\n",
       "        [ 5.27819280e+01],\n",
       "        [ 1.33573396e+01]])}"
      ]
     },
     "execution_count": 2,
     "metadata": {},
     "output_type": "execute_result"
    }
   ],
   "source": [
    "sio.loadmat('ex5data1.mat')"
   ]
  },
  {
   "cell_type": "code",
   "execution_count": 3,
   "metadata": {},
   "outputs": [],
   "source": [
    "def  load_data():\n",
    "    d = sio.loadmat('ex5data1.mat')\n",
    "    return map(np.ravel, [d['X'], d['y'], d['Xval'], d['yval'], d['Xtest'], d['ytest']])"
   ]
  },
  {
   "cell_type": "code",
   "execution_count": 4,
   "metadata": {},
   "outputs": [
    {
     "data": {
      "text/plain": [
       "((12,), (12,), (21,), (21,), (21,), (21,))"
      ]
     },
     "execution_count": 4,
     "metadata": {},
     "output_type": "execute_result"
    }
   ],
   "source": [
    "x,y,xval,yval,xtest,ytest = load_data()\n",
    "x.shape,y.shape,xval.shape,yval.shape,xtest.shape,ytest.shape"
   ]
  },
  {
   "cell_type": "code",
   "execution_count": 5,
   "metadata": {},
   "outputs": [
    {
     "data": {
      "image/png": "[encoded data removed]",
      "text/plain": [
       "<Figure size 432x288 with 1 Axes>"
      ]
     },
     "metadata": {
      "needs_background": "light"
     },
     "output_type": "display_data"
    }
   ],
   "source": [
    "fig,ax = plt.subplots()\n",
    "ax.scatter(x,y)\n",
    "ax.set_xlabel('water_level')\n",
    "ax.set_ylabel('flow')\n",
    "plt.show()"
   ]
  },
  {
   "cell_type": "code",
   "execution_count": 6,
   "metadata": {},
   "outputs": [
    {
     "data": {
      "text/plain": [
       "((12, 2), (12,), (21, 2), (21,), (21, 2), (21,))"
      ]
     },
     "execution_count": 6,
     "metadata": {},
     "output_type": "execute_result"
    }
   ],
   "source": [
    "x, xval, xtest = [np.insert(x.reshape(x.shape[0], 1), 0, np.ones(x.shape[0]), axis=1) for x in (x, xval, xtest)]\n",
    "x.shape,y.shape,xval.shape,yval.shape,xtest.shape,ytest.shape"
   ]
  },
  {
   "cell_type": "markdown",
   "metadata": {},
   "source": [
    "# 代价函数\n",
    "<img style=\"float: left;\" src=\"images/cost_reg.png\">"
   ]
  },
  {
   "cell_type": "code",
   "execution_count": 28,
   "metadata": {},
   "outputs": [],
   "source": [
    "def cost_reg(theta,x,y,reg):\n",
    "    m = x.shape[0]\n",
    "    \n",
    "    inner = x @ theta - y # (12,2) @ (2,1) - (12,) = (12,1)\n",
    "    \n",
    "    square_sum = inner.T @ inner #(1,12) @ (12,1) = 1\n",
    "    regluar = reg / (2 * m) * theta[1:] @ theta[1:]\n",
    "    cost = square_sum / (2 * m)\n",
    "    return cost"
   ]
  },
  {
   "cell_type": "code",
   "execution_count": 29,
   "metadata": {},
   "outputs": [
    {
     "name": "stdout",
     "output_type": "stream",
     "text": [
      "(2,)\n"
     ]
    },
    {
     "data": {
      "text/plain": [
       "303.9515255535976"
      ]
     },
     "execution_count": 29,
     "metadata": {},
     "output_type": "execute_result"
    }
   ],
   "source": [
    "t_theta = np.array([1,1])\n",
    "print(t_theta.shape)\n",
    "cost_reg(t_theta,x,y,1)"
   ]
  },
  {
   "cell_type": "markdown",
   "metadata": {},
   "source": [
    "#  梯度函数\n",
    "<img style=\"float: left;\" src=\"images/gradient_reg.png\">"
   ]
  },
  {
   "cell_type": "code",
   "execution_count": 38,
   "metadata": {},
   "outputs": [],
   "source": [
    "def gradient_reg(theta,x,y,reg):\n",
    "    m = x.shape[0]\n",
    "    delta = x @ theta - y #(12,1)\n",
    "    \n",
    "    regular_term = theta.copy()\n",
    "    regular_term[0] = 0\n",
    "    \n",
    "    regular_term = (reg / m) * regular_term\n",
    "    res = x.T @ delta / m + regular_term\n",
    "    return res"
   ]
  },
  {
   "cell_type": "code",
   "execution_count": 39,
   "metadata": {},
   "outputs": [
    {
     "data": {
      "text/plain": [
       "array([-15.30301567, 598.25074417])"
      ]
     },
     "execution_count": 39,
     "metadata": {},
     "output_type": "execute_result"
    }
   ],
   "source": [
    "gradient_reg(t_theta,x,y,1)"
   ]
  },
  {
   "cell_type": "markdown",
   "metadata": {},
   "source": [
    "# 拟合数据"
   ]
  },
  {
   "cell_type": "code",
   "execution_count": 41,
   "metadata": {},
   "outputs": [],
   "source": [
    "def linear_regression_fit(x,y,reg=1):\n",
    "    \n",
    "    theta = np.ones(x.shape[1])\n",
    "    \n",
    "    res = opt.minimize(fun=cost_reg,\n",
    "                      x0=theta,\n",
    "                      args=(x,y,1),\n",
    "                      jac=gradient_reg,\n",
    "                      options={'disp':True})\n",
    "    return res"
   ]
  },
  {
   "cell_type": "code",
   "execution_count": 47,
   "metadata": {},
   "outputs": [
    {
     "name": "stdout",
     "output_type": "stream",
     "text": [
      "Warning: Desired error not necessarily achieved due to precision loss.\n",
      "         Current function value: 22.373907\n",
      "         Iterations: 4\n",
      "         Function evaluations: 79\n",
      "         Gradient evaluations: 67\n"
     ]
    }
   ],
   "source": [
    "#reg=0 因为对低维数据没有太大用\n",
    "final_theta = linear_regression_fit(x, y, reg=0).get('x')"
   ]
  },
  {
   "cell_type": "code",
   "execution_count": 48,
   "metadata": {},
   "outputs": [
    {
     "data": {
      "image/png": "[encoded data removed]",
      "text/plain": [
       "<Figure size 432x288 with 1 Axes>"
      ]
     },
     "metadata": {
      "needs_background": "light"
     },
     "output_type": "display_data"
    }
   ],
   "source": [
    "b = final_theta[0] # intercept\n",
    "m = final_theta[1] # slope\n",
    "\n",
    "plt.scatter(x[:,1], y, label=\"Training data\")\n",
    "plt.plot(x[:, 1], x[:, 1]*m + b, label=\"Prediction\")\n",
    "plt.legend(loc=2)\n",
    "plt.show()"
   ]
  },
  {
   "cell_type": "code",
   "execution_count": null,
   "metadata": {},
   "outputs": [],
   "source": []
  }
 ],
 "metadata": {
  "kernelspec": {
   "display_name": "Python 3",
   "language": "python",
   "name": "python3"
  },
  "language_info": {
   "codemirror_mode": {
    "name": "ipython",
    "version": 3
   },
   "file_extension": ".py",
   "mimetype": "text/x-python",
   "name": "python",
   "nbconvert_exporter": "python",
   "pygments_lexer": "ipython3",
   "version": "3.7.0"
  }
 },
 "nbformat": 4,
 "nbformat_minor": 2
}
