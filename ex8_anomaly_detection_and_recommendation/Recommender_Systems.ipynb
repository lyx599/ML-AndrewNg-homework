{
 "cells": [
  {
   "cell_type": "markdown",
   "metadata": {},
   "source": [
    "# 2-推荐系统"
   ]
  },
  {
   "cell_type": "code",
   "execution_count": 1,
   "metadata": {},
   "outputs": [],
   "source": [
    "import numpy as np\n",
    "import pandas as pd\n",
    "import matplotlib.pyplot as plt\n",
    "import seaborn as sns\n",
    "import scipy.io as sio"
   ]
  },
  {
   "cell_type": "markdown",
   "metadata": {},
   "source": [
    "## 加载数据"
   ]
  },
  {
   "cell_type": "markdown",
   "metadata": {},
   "source": [
    "矩阵Y（num_movies×num_user矩阵）存储评级y（i, j）（从1到5）。  \n",
    "矩阵R是二进制值指示矩阵，其中如果用户j给予电影i评级则R（i,j）= 1，否则R（i,j）= 0"
   ]
  },
  {
   "cell_type": "code",
   "execution_count": 2,
   "metadata": {},
   "outputs": [
    {
     "data": {
      "text/plain": [
       "{'__header__': b'MATLAB 5.0 MAT-file, Platform: GLNXA64, Created on: Thu Dec  1 17:19:26 2011',\n",
       " '__version__': '1.0',\n",
       " '__globals__': [],\n",
       " 'Y': array([[5, 4, 0, ..., 5, 0, 0],\n",
       "        [3, 0, 0, ..., 0, 0, 5],\n",
       "        [4, 0, 0, ..., 0, 0, 0],\n",
       "        ...,\n",
       "        [0, 0, 0, ..., 0, 0, 0],\n",
       "        [0, 0, 0, ..., 0, 0, 0],\n",
       "        [0, 0, 0, ..., 0, 0, 0]], dtype=uint8),\n",
       " 'R': array([[1, 1, 0, ..., 1, 0, 0],\n",
       "        [1, 0, 0, ..., 0, 0, 1],\n",
       "        [1, 0, 0, ..., 0, 0, 0],\n",
       "        ...,\n",
       "        [0, 0, 0, ..., 0, 0, 0],\n",
       "        [0, 0, 0, ..., 0, 0, 0],\n",
       "        [0, 0, 0, ..., 0, 0, 0]], dtype=uint8)}"
      ]
     },
     "execution_count": 2,
     "metadata": {},
     "output_type": "execute_result"
    }
   ],
   "source": [
    "raw_data = sio.loadmat('data/ex8_movies.mat')\n",
    "raw_data"
   ]
  },
  {
   "cell_type": "code",
   "execution_count": 3,
   "metadata": {},
   "outputs": [
    {
     "data": {
      "text/plain": [
       "((1682, 943), (1682, 943))"
      ]
     },
     "execution_count": 3,
     "metadata": {},
     "output_type": "execute_result"
    }
   ],
   "source": [
    "Y = raw_data['Y']\n",
    "R = raw_data['R']\n",
    "Y.shape,R.shape"
   ]
  },
  {
   "cell_type": "code",
   "execution_count": 4,
   "metadata": {},
   "outputs": [],
   "source": [
    "#把x and theta 压缩为一个向量\n",
    "def serialize(x,theta):\n",
    "    return np.concatenate((x.ravel(),theta.ravel()))"
   ]
  },
  {
   "cell_type": "code",
   "execution_count": 5,
   "metadata": {},
   "outputs": [],
   "source": [
    "#向量转数组 返回2个值 x and theta\n",
    "def deserialize(param,n_movie,n_user,n_features):\n",
    "    return param[:n_movie * n_features].reshape(n_movie,n_features),\\\n",
    "           param[n_movie * n_features:].reshape(n_user,n_features)"
   ]
  },
  {
   "cell_type": "markdown",
   "metadata": {},
   "source": [
    "## 代价函数\n",
    "<img style=\"float: left;\" src=\"images/cost.png\">"
   ]
  },
  {
   "cell_type": "markdown",
   "metadata": {},
   "source": [
    "用结果点乘R矩阵就能实现r(i,j)=1的计算"
   ]
  },
  {
   "cell_type": "code",
   "execution_count": 6,
   "metadata": {},
   "outputs": [],
   "source": [
    "def cost(param,Y,R,n_features):\n",
    "    n_movies,n_users = Y.shape\n",
    "    x,theta = deserialize(param,n_movies,n_users,n_features)\n",
    "    \n",
    "    delta = x @ theta.T - Y\n",
    "    inner = np.multiply(delta,R)\n",
    "    cost = (inner ** 2).sum() / 2\n",
    "    return cost"
   ]
  },
  {
   "cell_type": "code",
   "execution_count": 7,
   "metadata": {},
   "outputs": [
    {
     "data": {
      "text/plain": [
       "{'__header__': b'MATLAB 5.0 MAT-file, Platform: GLNXA64, Created on: Thu Dec  1 17:16:53 2011',\n",
       " '__version__': '1.0',\n",
       " '__globals__': [],\n",
       " 'X': array([[ 1.0486855 , -0.40023196,  1.19411945, ...,  0.861721  ,\n",
       "         -0.69728994,  0.28874563],\n",
       "        [ 0.78085123, -0.38562591,  0.52119779, ...,  0.70402073,\n",
       "         -0.48583521, -0.56462407],\n",
       "        [ 0.64150886, -0.54785385, -0.08379638, ...,  0.83854643,\n",
       "         -0.69483208, -1.13479631],\n",
       "        ...,\n",
       "        [ 0.21952237, -0.20047886,  0.09257965, ...,  0.14595183,\n",
       "         -0.0431316 ,  0.17830451],\n",
       "        [ 0.16044028, -0.16015395,  0.23570946, ...,  0.2073381 ,\n",
       "         -0.33234766,  0.0428813 ],\n",
       "        [ 0.07677118, -0.19720738,  0.08186445, ...,  0.40012757,\n",
       "         -0.28747906, -0.03233498]]),\n",
       " 'Theta': array([[ 0.28544362, -1.68426509,  0.26293877, ...,  0.76723235,\n",
       "         -1.10460164, -0.25186708],\n",
       "        [ 0.50501321, -0.45464846,  0.31746244, ...,  1.09306336,\n",
       "         -1.20029436, -0.39161676],\n",
       "        [-0.43191656, -0.47880449,  0.84671111, ...,  1.36333976,\n",
       "         -0.32523542, -0.19468212],\n",
       "        ...,\n",
       "        [ 1.0586926 , -0.8087176 ,  0.56935771, ...,  0.80421422,\n",
       "         -0.74346778, -0.11985885],\n",
       "        [ 0.89058932, -0.12894734,  0.35560466, ...,  1.37426807,\n",
       "         -0.7526549 , -0.81135311],\n",
       "        [ 0.82414136, -0.38892594,  1.06940502, ...,  1.28423703,\n",
       "         -0.98349993, -0.53184838]]),\n",
       " 'num_users': array([[943]], dtype=uint16),\n",
       " 'num_movies': array([[1682]], dtype=uint16),\n",
       " 'num_features': array([[10]], dtype=uint8)}"
      ]
     },
     "execution_count": 7,
     "metadata": {},
     "output_type": "execute_result"
    }
   ],
   "source": [
    "#加载数据进行测试是否正确\n",
    "para_data = sio.loadmat('data/ex8_movieParams.mat')\n",
    "para_data"
   ]
  },
  {
   "cell_type": "code",
   "execution_count": 8,
   "metadata": {},
   "outputs": [
    {
     "data": {
      "text/plain": [
       "((1682, 10), (943, 10))"
      ]
     },
     "execution_count": 8,
     "metadata": {},
     "output_type": "execute_result"
    }
   ],
   "source": [
    "para_x = para_data['X']\n",
    "para_theta = para_data['Theta']\n",
    "para_x.shape,para_theta.shape"
   ]
  },
  {
   "cell_type": "code",
   "execution_count": 9,
   "metadata": {},
   "outputs": [
    {
     "data": {
      "text/plain": [
       "22.224603725685675"
      ]
     },
     "execution_count": 9,
     "metadata": {},
     "output_type": "execute_result"
    }
   ],
   "source": [
    "users = 4\n",
    "movies = 5\n",
    "features = 3\n",
    "\n",
    "x_sub = para_x[:movies, :features]\n",
    "theta_sub = para_theta[:users, :features]\n",
    "Y_sub = Y[:movies, :users]\n",
    "R_sub = R[:movies, :users]\n",
    "param_sub = serialize(x_sub, theta_sub)\n",
    "#cost符合预期输出22.22\n",
    "cost(param_sub, Y_sub, R_sub, features)"
   ]
  },
  {
   "cell_type": "code",
   "execution_count": 10,
   "metadata": {},
   "outputs": [
    {
     "data": {
      "text/plain": [
       "27918.64012454421"
      ]
     },
     "execution_count": 10,
     "metadata": {},
     "output_type": "execute_result"
    }
   ],
   "source": [
    "#total cost\n",
    "param = serialize(para_x,para_theta)\n",
    "cost(param,Y,R,10)"
   ]
  },
  {
   "cell_type": "markdown",
   "metadata": {},
   "source": [
    "## 梯度函数  \n",
    "<img style=\"float: left;\" src=\"images/gradient.png\">"
   ]
  },
  {
   "cell_type": "code",
   "execution_count": 11,
   "metadata": {},
   "outputs": [],
   "source": [
    "def gradient(param,Y,R,n_features):\n",
    "    n_movies,n_users = Y.shape\n",
    "    # x(1682, 10),theta(943, 10)\n",
    "    x,theta = deserialize(param,n_movies,n_users,n_features)\n",
    "    \n",
    "    #Y(1682,943)\n",
    "    delta = x @ theta.T - Y\n",
    "    r_delta = np.multiply(delta,R)\n",
    "    # (1682, 10) = (1682,943) @ (943, 10)\n",
    "    x_grad = r_delta @ theta\n",
    "    # (943, 10) = (1682,943).T @ (1682, 10)\n",
    "    theta_grad = r_delta.T @ x\n",
    "    \n",
    "    return serialize(x_grad,theta_grad)"
   ]
  },
  {
   "cell_type": "code",
   "execution_count": 12,
   "metadata": {},
   "outputs": [
    {
     "data": {
      "text/plain": [
       "array([-6.26184144,  2.45936046, -6.87560329, ..., -6.56073746,\n",
       "        5.20459188,  2.65003952])"
      ]
     },
     "execution_count": 12,
     "metadata": {},
     "output_type": "execute_result"
    }
   ],
   "source": [
    "gradient(param,Y,R,10)"
   ]
  },
  {
   "cell_type": "markdown",
   "metadata": {},
   "source": [
    "## 正则化代价函数\n",
    "<img style=\"float: left;\" src=\"images/reg_cost.png\">"
   ]
  },
  {
   "cell_type": "code",
   "execution_count": 13,
   "metadata": {},
   "outputs": [],
   "source": [
    "def reg_cost(param,Y,R,n_features,reg):\n",
    "    n_movies,n_users = Y.shape\n",
    "    x,theta = deserialize(param,n_movies,n_users,n_features)\n",
    "    \n",
    "    theta_term = (theta ** 2).sum() * reg / 2\n",
    "    x_term = (x ** 2).sum() * reg / 2\n",
    "    return cost(param,Y,R,n_features) + theta_term + x_term"
   ]
  },
  {
   "cell_type": "markdown",
   "metadata": {},
   "source": [
    "更便捷的写法  \n",
    "后面的正则化就是全参数开方相加\n",
    "```python\n",
    "def regularized_cost(param, Y, R, n_features, reg=1):\n",
    "    reg_term = np.power(param, 2).sum() * (reg / 2)\n",
    "\n",
    "    return cost(param, Y, R, n_features) + reg_term\n",
    "```"
   ]
  },
  {
   "cell_type": "code",
   "execution_count": 14,
   "metadata": {},
   "outputs": [
    {
     "data": {
      "text/plain": [
       "31.34405624427422"
      ]
     },
     "execution_count": 14,
     "metadata": {},
     "output_type": "execute_result"
    }
   ],
   "source": [
    "#预期输出31.34\n",
    "reg_cost(param_sub, Y_sub, R_sub, features, reg=1.5)"
   ]
  },
  {
   "cell_type": "code",
   "execution_count": 15,
   "metadata": {},
   "outputs": [
    {
     "data": {
      "text/plain": [
       "32520.682450229557"
      ]
     },
     "execution_count": 15,
     "metadata": {},
     "output_type": "execute_result"
    }
   ],
   "source": [
    "reg_cost(param, Y, R, 10, reg=1)  # total regularized cost"
   ]
  },
  {
   "cell_type": "markdown",
   "metadata": {},
   "source": [
    "## 正则化梯度函数\n",
    "\\begin{aligned} \\frac{\\partial J}{\\partial x_{k}^{(i)}} &=\\sum_{j : r(i, j)=1}\\left(\\left(\\theta^{(j)}\\right)^{T} x^{(i)}-y^{(i, j)}\\right) \\theta_{k}^{(j)}+\\lambda x_{k}^{(i)} \\\\ \\frac{\\partial J}{\\partial \\theta_{k}^{(j)}} &=\\sum_{i : r(i, j)=1}\\left(\\left(\\theta^{(j)}\\right)^{T} x^{(i)}-y^{(i, j)}\\right) x_{k}^{(i)}+\\lambda \\theta_{k}^{(j)} \\end{aligned}"
   ]
  },
  {
   "cell_type": "code",
   "execution_count": 16,
   "metadata": {},
   "outputs": [],
   "source": [
    "def reg_gradient(param,Y,R,n_features,reg):\n",
    "    n_movies,n_users = Y.shape\n",
    "     # x(1682, 10),theta(943, 10)\n",
    "    x,theta = deserialize(param,n_movies,n_users,n_features)\n",
    "    \n",
    "    #Y(1682,943)\n",
    "    delta = x @ theta.T - Y\n",
    "    r_delta = np.multiply(delta,R)\n",
    "    x_grad = r_delta @ theta + reg * x\n",
    "    theta_grad = r_delta.T @ x + reg * theta\n",
    "    return serialize(x_grad,theta_grad)"
   ]
  },
  {
   "cell_type": "markdown",
   "metadata": {},
   "source": [
    "一种更便捷的方式  \n",
    "正则化分别对应作用于每个参数，展开为向量时正好是对应相加\n",
    "```python\n",
    "def regularized_gradient(param, Y, R, n_features, reg=1):\n",
    "    grad = gradient(param, Y, R, n_features)\n",
    "    reg_term = reg * param\n",
    "\n",
    "    return grad + reg_term\n",
    "```"
   ]
  },
  {
   "cell_type": "code",
   "execution_count": 17,
   "metadata": {},
   "outputs": [
    {
     "data": {
      "text/plain": [
       "array([ -0.95596339,   6.97535514,  -0.10861109,   0.60308088,\n",
       "         2.77421145,   0.25839822,   0.12985616,   4.0898522 ,\n",
       "        -0.89247334,   0.29684395,   1.06300933,   0.66738144,\n",
       "         0.60252677,   4.90185327,  -0.19747928, -10.13985478,\n",
       "         2.10136256,  -6.76563628,  -2.29347024,   0.48244098,\n",
       "        -2.99791422,  -0.64787484,  -0.71820673,   1.27006666,\n",
       "         1.09289758,  -0.40784086,   0.49026541])"
      ]
     },
     "execution_count": 17,
     "metadata": {},
     "output_type": "execute_result"
    }
   ],
   "source": [
    "reg_gradient(param_sub, Y_sub, R_sub, features, reg=1.5)"
   ]
  },
  {
   "cell_type": "markdown",
   "metadata": {},
   "source": [
    "## 模型训练和电影推荐"
   ]
  },
  {
   "cell_type": "code",
   "execution_count": 18,
   "metadata": {},
   "outputs": [],
   "source": [
    "movie_idx = {}\n",
    "f = open('data/movie_ids.txt',encoding= 'gbk')\n",
    "for line in f:\n",
    "    tokens = line.split(' ')\n",
    "    tokens[-1] = tokens[-1][:-1]\n",
    "    movie_idx[int(tokens[0]) - 1] = ' '.join(tokens[1:])"
   ]
  },
  {
   "cell_type": "code",
   "execution_count": 19,
   "metadata": {},
   "outputs": [
    {
     "data": {
      "text/plain": [
       "'Toy Story (1995)'"
      ]
     },
     "execution_count": 19,
     "metadata": {},
     "output_type": "execute_result"
    }
   ],
   "source": [
    "movie_idx[0]"
   ]
  },
  {
   "cell_type": "markdown",
   "metadata": {},
   "source": [
    "##### 使用练习提供的评分作为自己的喜好"
   ]
  },
  {
   "cell_type": "code",
   "execution_count": 20,
   "metadata": {},
   "outputs": [
    {
     "name": "stdout",
     "output_type": "stream",
     "text": [
      "Rated Toy Story (1995) with 4 stars.\n",
      "Rated Twelve Monkeys (1995) with 3 stars.\n",
      "Rated Usual Suspects, The (1995) with 5 stars.\n",
      "Rated Outbreak (1995) with 4 stars.\n",
      "Rated Shawshank Redemption, The (1994) with 5 stars.\n",
      "Rated While You Were Sleeping (1995) with 3 stars.\n",
      "Rated Forrest Gump (1994) with 5 stars.\n",
      "Rated Silence of the Lambs, The (1991) with 2 stars.\n",
      "Rated Alien (1979) with 4 stars.\n",
      "Rated Die Hard 2 (1990) with 5 stars.\n",
      "Rated Sphere (1998) with 5 stars.\n"
     ]
    }
   ],
   "source": [
    "ratings = np.zeros(1682)\n",
    "\n",
    "ratings[0] = 4\n",
    "ratings[6] = 3\n",
    "ratings[11] = 5\n",
    "ratings[53] = 4\n",
    "ratings[63] = 5\n",
    "ratings[65] = 3\n",
    "ratings[68] = 5\n",
    "ratings[97] = 2\n",
    "ratings[182] = 4\n",
    "ratings[225] = 5\n",
    "ratings[354] = 5\n",
    "\n",
    "print('Rated {0} with {1} stars.'.format(movie_idx[0], str(int(ratings[0]))))\n",
    "print('Rated {0} with {1} stars.'.format(movie_idx[6], str(int(ratings[6]))))\n",
    "print('Rated {0} with {1} stars.'.format(movie_idx[11], str(int(ratings[11]))))\n",
    "print('Rated {0} with {1} stars.'.format(movie_idx[53], str(int(ratings[53]))))\n",
    "print('Rated {0} with {1} stars.'.format(movie_idx[63], str(int(ratings[63]))))\n",
    "print('Rated {0} with {1} stars.'.format(movie_idx[65], str(int(ratings[65]))))\n",
    "print('Rated {0} with {1} stars.'.format(movie_idx[68], str(int(ratings[68]))))\n",
    "print('Rated {0} with {1} stars.'.format(movie_idx[97], str(int(ratings[97]))))\n",
    "print('Rated {0} with {1} stars.'.format(movie_idx[182], str(int(ratings[182]))))\n",
    "print('Rated {0} with {1} stars.'.format(movie_idx[225], str(int(ratings[225]))))\n",
    "print('Rated {0} with {1} stars.'.format(movie_idx[354], str(int(ratings[354]))))"
   ]
  },
  {
   "cell_type": "code",
   "execution_count": 21,
   "metadata": {},
   "outputs": [
    {
     "data": {
      "text/plain": [
       "((1682, 944), (1682, 944))"
      ]
     },
     "execution_count": 21,
     "metadata": {},
     "output_type": "execute_result"
    }
   ],
   "source": [
    "Y = raw_data['Y']\n",
    "R = raw_data['R']\n",
    "#插入自己的评价\n",
    "Y = np.insert(Y, 0, ratings, axis=1)  # now I become user 0\n",
    "R = np.insert(R, 0, ratings != 0, axis=1)\n",
    "\n",
    "Y.shape,R.shape"
   ]
  },
  {
   "cell_type": "code",
   "execution_count": 22,
   "metadata": {},
   "outputs": [],
   "source": [
    "n_features = 10\n",
    "n_movie, n_user = Y.shape\n",
    "reg = 10"
   ]
  },
  {
   "cell_type": "code",
   "execution_count": 23,
   "metadata": {},
   "outputs": [
    {
     "data": {
      "text/plain": [
       "((1682, 10), (944, 10))"
      ]
     },
     "execution_count": 23,
     "metadata": {},
     "output_type": "execute_result"
    }
   ],
   "source": [
    "x = np.random.standard_normal((n_movie, n_features))\n",
    "theta = np.random.standard_normal((n_user, n_features))\n",
    "\n",
    "x.shape, theta.shape"
   ]
  },
  {
   "cell_type": "code",
   "execution_count": 24,
   "metadata": {},
   "outputs": [
    {
     "data": {
      "text/plain": [
       "(26260,)"
      ]
     },
     "execution_count": 24,
     "metadata": {},
     "output_type": "execute_result"
    }
   ],
   "source": [
    "param = serialize(x, theta)\n",
    "param.shape"
   ]
  },
  {
   "cell_type": "code",
   "execution_count": 25,
   "metadata": {},
   "outputs": [
    {
     "data": {
      "text/plain": [
       "4.6862111343939375e-17"
      ]
     },
     "execution_count": 25,
     "metadata": {},
     "output_type": "execute_result"
    }
   ],
   "source": [
    "#均值归一化\n",
    "Y_norm = Y - Y.mean()\n",
    "Y_norm.mean()"
   ]
  },
  {
   "cell_type": "code",
   "execution_count": 26,
   "metadata": {},
   "outputs": [
    {
     "data": {
      "text/plain": [
       "     fun: 69380.70267951078\n",
       "     jac: array([ 1.52816693e-05,  5.76434287e-05,  4.49391708e-05, ...,\n",
       "        2.74691081e-05, -7.34793906e-08, -7.03778045e-06])\n",
       " message: 'Converged (|f_n-f_(n-1)| ~= 0)'\n",
       "    nfev: 1229\n",
       "     nit: 53\n",
       "  status: 1\n",
       " success: True\n",
       "       x: array([-1.03579937,  0.2885878 , -0.51889949, ..., -1.28947283,\n",
       "       -0.19761547,  0.12587405])"
      ]
     },
     "execution_count": 26,
     "metadata": {},
     "output_type": "execute_result"
    }
   ],
   "source": [
    "import scipy.optimize as opt\n",
    "res = opt.minimize(fun=reg_cost,\n",
    "                   x0=param,\n",
    "                   args=(Y_norm, R, n_features, reg),\n",
    "                   method='TNC',\n",
    "                   jac=reg_gradient)\n",
    "#这里很慢\n",
    "res"
   ]
  },
  {
   "cell_type": "code",
   "execution_count": 27,
   "metadata": {},
   "outputs": [
    {
     "data": {
      "text/plain": [
       "((1682, 10), (944, 10))"
      ]
     },
     "execution_count": 27,
     "metadata": {},
     "output_type": "execute_result"
    }
   ],
   "source": [
    "x_trained, theta_trained = deserialize(res.x, n_movie, n_user, n_features)\n",
    "x_trained.shape, theta_trained.shape"
   ]
  },
  {
   "cell_type": "code",
   "execution_count": 28,
   "metadata": {},
   "outputs": [],
   "source": [
    "prediction = x_trained @ theta_trained.T"
   ]
  },
  {
   "cell_type": "code",
   "execution_count": 29,
   "metadata": {},
   "outputs": [],
   "source": [
    "#预测时把去掉的均值加回来\n",
    "my_preds = prediction[:, 0] + Y.mean()"
   ]
  },
  {
   "cell_type": "code",
   "execution_count": 30,
   "metadata": {},
   "outputs": [
    {
     "data": {
      "text/plain": [
       "(1682,)"
      ]
     },
     "execution_count": 30,
     "metadata": {},
     "output_type": "execute_result"
    }
   ],
   "source": [
    "idx = np.argsort(my_preds)[::-1]  # Descending order\n",
    "idx.shape"
   ]
  },
  {
   "cell_type": "code",
   "execution_count": 31,
   "metadata": {},
   "outputs": [
    {
     "name": "stdout",
     "output_type": "stream",
     "text": [
      "Top 10 movie predictions:\n",
      "Predicted rating of 4.2826310452450835 for movie Titanic (1997).\n",
      "Predicted rating of 4.114989509573208 for movie Star Wars (1977).\n",
      "Predicted rating of 3.9804480582334 for movie Raiders of the Lost Ark (1981).\n",
      "Predicted rating of 3.9058053430402118 for movie Good Will Hunting (1997).\n",
      "Predicted rating of 3.8881765512048103 for movie Shawshank Redemption, The (1994).\n",
      "Predicted rating of 3.874608392296945 for movie Braveheart (1995).\n",
      "Predicted rating of 3.8717879145930683 for movie Return of the Jedi (1983).\n",
      "Predicted rating of 3.865271422196603 for movie Empire Strikes Back, The (1980).\n",
      "Predicted rating of 3.762376952539388 for movie Terminator 2: Judgment Day (1991).\n",
      "Predicted rating of 3.7539430105374594 for movie As Good As It Gets (1997).\n"
     ]
    }
   ],
   "source": [
    "print(\"Top 10 movie predictions:\")\n",
    "for i in range(10):\n",
    "    j = int(idx[i])\n",
    "    print('Predicted rating of {0} for movie {1}.'.format(str(float(my_preds[j])), movie_idx[j]))"
   ]
  },
  {
   "cell_type": "markdown",
   "metadata": {},
   "source": [
    " 和预期结果有些出入，pdf中说的可能是初始化不同的原因，不知道是不是这个原因,应该也和特征个数设置有关"
   ]
  }
 ],
 "metadata": {
  "kernelspec": {
   "display_name": "Python 3",
   "language": "python",
   "name": "python3"
  },
  "language_info": {
   "codemirror_mode": {
    "name": "ipython",
    "version": 3
   },
   "file_extension": ".py",
   "mimetype": "text/x-python",
   "name": "python",
   "nbconvert_exporter": "python",
   "pygments_lexer": "ipython3",
   "version": "3.7.0"
  }
 },
 "nbformat": 4,
 "nbformat_minor": 2
}
